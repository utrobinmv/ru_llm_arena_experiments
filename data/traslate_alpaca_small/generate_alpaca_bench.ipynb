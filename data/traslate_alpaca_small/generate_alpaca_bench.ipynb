{
 "cells": [
  {
   "cell_type": "code",
   "execution_count": 1,
   "id": "6ead31c1-3cf1-4be5-855c-eeb55e99d522",
   "metadata": {
    "tags": []
   },
   "outputs": [],
   "source": [
    "import time\n",
    "import json\n",
    "import datasets\n",
    "from string import Template"
   ]
  },
  {
   "cell_type": "code",
   "execution_count": 2,
   "id": "f00dfd6d-a2d5-4881-9fa7-953bfc588a36",
   "metadata": {
    "tags": []
   },
   "outputs": [],
   "source": [
    "model_id = 'reference'\n",
    "file_path_answer = f\"model_answer/{model_id}.jsonl\""
   ]
  },
  {
   "cell_type": "code",
   "execution_count": 3,
   "id": "c925bf4c-ccf9-46b8-887c-eb00c28ee8cf",
   "metadata": {
    "tags": []
   },
   "outputs": [],
   "source": [
    "user_prompt = \"Переведи документ с Английского языка на Русский язык, сохраняя при этом формат и стиль. В своем ответе пиши только перевод документа, не добавляй никаких дополнительных фраз и комментариев. Документ: \\n$text\""
   ]
  },
  {
   "cell_type": "code",
   "execution_count": 4,
   "id": "6aa9c7f6-61ec-48b9-b9cd-2b8cfe2fcab9",
   "metadata": {
    "tags": []
   },
   "outputs": [
    {
     "data": {
      "application/vnd.jupyter.widget-view+json": {
       "model_id": "e0a88ec5cf9c47f0ac6398102f5500d9",
       "version_major": 2,
       "version_minor": 0
      },
      "text/plain": [
       "Generating test split: 0 examples [00:00, ? examples/s]"
      ]
     },
     "metadata": {},
     "output_type": "display_data"
    }
   ],
   "source": [
    "ds = datasets.load_dataset(\"datasets/translate_en_ru_zh_alpaca\")"
   ]
  },
  {
   "cell_type": "code",
   "execution_count": 5,
   "id": "60bfd344-06d9-415a-ad8c-8b6691b69a30",
   "metadata": {
    "tags": []
   },
   "outputs": [],
   "source": [
    "ds = ds['test']"
   ]
  },
  {
   "cell_type": "code",
   "execution_count": 6,
   "id": "3210f37e-88a3-42d7-80a1-bfbeac47ab86",
   "metadata": {
    "tags": []
   },
   "outputs": [
    {
     "data": {
      "text/plain": [
       "{'index': 34124,\n",
       " 'instruction': {'en': 'Generate a blueprint to build a bird feeder.',\n",
       "  'ru': 'Создайте чертеж, чтобы построить кормушку для птиц.',\n",
       "  'zh': '生成一个蓝图以建造一个鸟食器。'},\n",
       " 'input': {'en': '', 'ru': 'nan', 'zh': ''},\n",
       " 'output': {'en': 'Here is a simple blueprint for building a wooden bird feeder:\\n\\nMaterials:\\n- 1x6 cedar board\\n- 1x8 cedar board\\n- 1x2 cedar board\\n- 1/4 inch dowel\\n- Galvanized nails or screws\\n- Plexiglass or polycarbonate sheet\\n- Waterproof wood glue\\n- Sandpaper\\n- Saw\\n- Hammer or drill\\n\\nInstructions:\\n\\n1. Cut the boards: Using the saw, cut the 1x6 cedar board into two 8-inch pieces for the front and back of the bird feeder. Cut the 1x8 cedar board into two 7-inch pieces for the sides. Cut the 1x2 cedar board into two 12-inch pieces for the roof.\\n\\n2. Assemble the base: Apply waterproof wood glue to the edges of the front and back pieces and attach them to the sides with nails or screws. Make sure the base is square.\\n\\n3. Cut the plexiglass: Cut two pieces of plexiglass or polycarbonate sheet to fit the opening of the base, leaving a little space at the top and bottom for the birdseed to flow out.\\n\\n4. Install the plexiglass: Attach the plexiglass to the inside of the front and back pieces using small nails or screws, leaving a gap at the top and bottom for the birdseed to flow out.\\n\\n5. Attach the roof: Apply wood glue to the top edges of the base and attach the 1x2 roof pieces with nails or screws, leaving an overhang on all sides.\\n\\n6. Install the perch: Drill a hole in the center of the front and back pieces and insert the dowel, securing it with wood glue.\\n\\n7. Sand and finish: Sand the bird feeder smooth and apply a waterproof finish, if desired.\\n\\n8. Fill with birdseed and hang: Fill the bird feeder with birdseed and hang it from a sturdy branch or hook. Enjoy watching the birds come to feed!',\n",
       "  'ru': 'Вот простой чертеж изготовления деревянной кормушки для птиц: Материалы: - кедровая доска 1x6 - кедровая доска 1x8 - кедровая доска 1x2 - дюбель 1/4 дюйма - оцинкованные гвозди или шурупы - лист плексигласа или поликарбоната - водостойкий клей для дерева - наждачная бумага - пила - Молотком или дрелью Инструкции: 1. Разрежьте доски: Используя пилу, разрежьте кедровую доску 1x6 на две 8-дюймовые части для передней и задней части кормушки. Разрежьте кедровую доску 1x8 на две 7-дюймовые части для сторон. Разрежьте кедровую доску 1x2 на две 12-дюймовые части для крыши. 2. Соберите основание: нанесите водостойкий столярный клей на края передней и задней частей и прикрепите их к бокам гвоздями или шурупами. Убедитесь, что основание квадратное. 3. Вырежьте плексиглас: Вырежьте два куска плексигласа или листа поликарбоната, чтобы они соответствовали отверстию в основании, оставив немного места сверху и снизу для вытекания птичьего корма. 4. Установите оргстекло: прикрепите оргстекло к внутренней стороне передней и задней частей с помощью маленьких гвоздей или шурупов, оставив зазор вверху и внизу для вытекания корма. 5. Прикрепите крышу: нанесите столярный клей на верхние края основания и прикрепите части крыши 1x2 гвоздями или шурупами, оставляя выступы со всех сторон. 6. Установите насест: просверлите отверстие в центре передней и задней частей и вставьте дюбель, закрепив его столярным клеем. 7. Отшлифуйте и отшлифуйте: Отшлифуйте кормушку до гладкости и, при желании, нанесите водоотталкивающее покрытие. 8. Наполните кормом для птиц и повесьте. Наполните кормушку кормом для птиц и повесьте ее на крепкую ветку или крючок. Наслаждайтесь наблюдением за тем, как птицы приходят покормиться!',\n",
       "  'zh': '以下是制作一个木制鸟食器的简单蓝图：\\n\\n材料：\\n- 1x6 雪松板\\n- 1x8 雪松板\\n- 1x2 雪松板\\n- 1/4 英寸的小木棍\\n- 镀锌钉或螺丝\\n- 亚克力或聚碳酸酯板\\n- 防水木胶\\n- 砂纸\\n- 锯\\n- 锤子或电钻\\n\\n步骤：\\n1. 切割木板：使用锯将 1x6 雪松板切成两个 8 英寸的部分，作为鸟食器的前后板。将 1x8 雪松板切成两个 7 英寸的部分，作为两侧。将 1x2 雪松板切成两个 12 英寸的部分，作为屋顶。\\n2. 组装底座：在前后板的边缘涂上防水木胶，用钉子或螺丝将其与两侧连接。确保底座是正方形的。\\n3. 切割亚克力板：将两块亚克力或聚碳酸酯板切成适合底座开口的大小，留出一点空间让鸟食流出。\\n4. 安装亚克力板：使用小钉子或螺丝将亚克力板固定在前后板的内侧，留出顶部和底部的空隙，让鸟食流出。\\n5. 安装屋顶：在底座的顶部涂上木胶，用钉子或螺丝将 1x2 的屋顶部分固定在上面，四周留出悬挂的部分。\\n6. 安装鸟栖木：在前后板的中心钻一个孔，插入小木棍，用木胶固定。\\n7. 打磨和涂漆：将鸟食器打磨光滑，如果需要，可以涂上防水涂料。\\n8. 填充鸟食并悬挂：将鸟食器填满鸟食，然后将其悬挂在坚固的树枝或钩子上。享受观赏鸟儿来觅食的乐趣！'},\n",
       " 'format': 'markdown',\n",
       " 'category': 'Creativity and Art'}"
      ]
     },
     "execution_count": 6,
     "metadata": {},
     "output_type": "execute_result"
    }
   ],
   "source": [
    "ds[0]"
   ]
  },
  {
   "cell_type": "code",
   "execution_count": 7,
   "id": "0687d34a-a2d0-4af1-ba27-eb028b47719b",
   "metadata": {
    "tags": []
   },
   "outputs": [],
   "source": [
    "#file_path = \"model_answer/gemma-2-9b-it.jsonl\"\n",
    "#file_path = \"question.jsonl\"\n",
    "# with open(file_path, 'r', encoding='utf-8') as file:\n",
    "#     for line_number, line in enumerate(file, start=1):\n",
    "#         # Преобразуем строку в JSON-объект\n",
    "#         json_object = json.loads(line.strip())\n",
    "#         print(f\"Строка {line_number}: {json_object}\")\n",
    "#         break"
   ]
  },
  {
   "cell_type": "code",
   "execution_count": 8,
   "id": "28ae0845-656f-44c8-a8b8-5ac7438fa669",
   "metadata": {
    "tags": []
   },
   "outputs": [],
   "source": [
    "def save_to_jsonl_file(data_list, file_path):\n",
    "    \"\"\"\n",
    "    Сохраняет список словарей в .jsonl файл.\n",
    "    \n",
    "    :param data_list: Список словарей для сохранения\n",
    "    :param file_path: Путь к выходному .jsonl файлу\n",
    "    \"\"\"\n",
    "    try:\n",
    "        # Открываем файл в режиме записи\n",
    "        with open(file_path, 'w', encoding='utf-8') as file:\n",
    "            for item in data_list:\n",
    "                # Преобразуем словарь в JSON-строку и записываем в файл\n",
    "                json_line = json.dumps(item, ensure_ascii=False)\n",
    "                file.write(json_line + '\\n')\n",
    "        print(f\"Данные успешно сохранены в файл: {file_path}\")\n",
    "    except Exception as e:\n",
    "        print(f\"Произошла ошибка при записи файла: {e}\")"
   ]
  },
  {
   "cell_type": "code",
   "execution_count": 9,
   "id": "d8bca820-263c-44c1-a063-9031282d06a4",
   "metadata": {
    "tags": []
   },
   "outputs": [],
   "source": [
    "template = Template(user_prompt)"
   ]
  },
  {
   "cell_type": "code",
   "execution_count": 10,
   "id": "3471d1e4-389f-4b47-9d12-3dec5fac34e8",
   "metadata": {
    "tags": []
   },
   "outputs": [],
   "source": [
    "list_q = []\n",
    "list_ref = []\n",
    "for idx in range(len(ds)):\n",
    "    it = ds[idx]\n",
    "    content = it['output']['en']\n",
    "    content_ru = it['output']['ru']\n",
    "    content = template.substitute(text=content)\n",
    "    dict_q = {'question_id': idx, 'cluster':1, 'turns': [{\"content\": content}], 'category': \"translate_alpaca_small\"}\n",
    "    list_q.append(dict_q)\n",
    "    dict_ref = {'question_id': idx, 'answer_id': idx, 'model_id': model_id, \n",
    "                'choices': [{'index': 0, 'turns': [{'content': content_ru, 'token_len': 0}]}], \n",
    "                \"tstamp\": time.time()}\n",
    "    list_ref.append(dict_ref)\n",
    "    #break"
   ]
  },
  {
   "cell_type": "code",
   "execution_count": 11,
   "id": "32122f97-4a70-430e-937a-7211d8790a07",
   "metadata": {
    "tags": []
   },
   "outputs": [
    {
     "data": {
      "text/plain": [
       "{'question_id': 0,\n",
       " 'answer_id': 0,\n",
       " 'model_id': 'reference',\n",
       " 'choices': [{'index': 0,\n",
       "   'turns': [{'content': 'Вот простой чертеж изготовления деревянной кормушки для птиц: Материалы: - кедровая доска 1x6 - кедровая доска 1x8 - кедровая доска 1x2 - дюбель 1/4 дюйма - оцинкованные гвозди или шурупы - лист плексигласа или поликарбоната - водостойкий клей для дерева - наждачная бумага - пила - Молотком или дрелью Инструкции: 1. Разрежьте доски: Используя пилу, разрежьте кедровую доску 1x6 на две 8-дюймовые части для передней и задней части кормушки. Разрежьте кедровую доску 1x8 на две 7-дюймовые части для сторон. Разрежьте кедровую доску 1x2 на две 12-дюймовые части для крыши. 2. Соберите основание: нанесите водостойкий столярный клей на края передней и задней частей и прикрепите их к бокам гвоздями или шурупами. Убедитесь, что основание квадратное. 3. Вырежьте плексиглас: Вырежьте два куска плексигласа или листа поликарбоната, чтобы они соответствовали отверстию в основании, оставив немного места сверху и снизу для вытекания птичьего корма. 4. Установите оргстекло: прикрепите оргстекло к внутренней стороне передней и задней частей с помощью маленьких гвоздей или шурупов, оставив зазор вверху и внизу для вытекания корма. 5. Прикрепите крышу: нанесите столярный клей на верхние края основания и прикрепите части крыши 1x2 гвоздями или шурупами, оставляя выступы со всех сторон. 6. Установите насест: просверлите отверстие в центре передней и задней частей и вставьте дюбель, закрепив его столярным клеем. 7. Отшлифуйте и отшлифуйте: Отшлифуйте кормушку до гладкости и, при желании, нанесите водоотталкивающее покрытие. 8. Наполните кормом для птиц и повесьте. Наполните кормушку кормом для птиц и повесьте ее на крепкую ветку или крючок. Наслаждайтесь наблюдением за тем, как птицы приходят покормиться!',\n",
       "     'token_len': 0}]}],\n",
       " 'tstamp': 1742551888.7110896}"
      ]
     },
     "execution_count": 11,
     "metadata": {},
     "output_type": "execute_result"
    }
   ],
   "source": [
    "dict_ref"
   ]
  },
  {
   "cell_type": "code",
   "execution_count": 12,
   "id": "0c474836-6b85-4053-b208-292d8fd7a703",
   "metadata": {
    "tags": []
   },
   "outputs": [
    {
     "name": "stdout",
     "output_type": "stream",
     "text": [
      "Данные успешно сохранены в файл: question.jsonl\n"
     ]
    }
   ],
   "source": [
    "save_to_jsonl_file(list_q, \"question.jsonl\")"
   ]
  },
  {
   "cell_type": "code",
   "execution_count": 13,
   "id": "8b482ccc-4056-42df-8d97-1bdad74598d3",
   "metadata": {
    "tags": []
   },
   "outputs": [
    {
     "name": "stdout",
     "output_type": "stream",
     "text": [
      "Данные успешно сохранены в файл: model_answer/reference.jsonl\n"
     ]
    }
   ],
   "source": [
    "save_to_jsonl_file(list_ref, file_path_answer)"
   ]
  },
  {
   "cell_type": "code",
   "execution_count": null,
   "id": "587ed65e-c0f4-4e8c-b5d8-4158056acebc",
   "metadata": {},
   "outputs": [],
   "source": []
  }
 ],
 "metadata": {
  "kernelspec": {
   "display_name": "Python 3 (ipykernel)",
   "language": "python",
   "name": "python3"
  },
  "language_info": {
   "codemirror_mode": {
    "name": "ipython",
    "version": 3
   },
   "file_extension": ".py",
   "mimetype": "text/x-python",
   "name": "python",
   "nbconvert_exporter": "python",
   "pygments_lexer": "ipython3",
   "version": "3.11.6"
  }
 },
 "nbformat": 4,
 "nbformat_minor": 5
}
